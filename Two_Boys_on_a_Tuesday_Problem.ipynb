{
  "nbformat": 4,
  "nbformat_minor": 0,
  "metadata": {
    "colab": {
      "provenance": [],
      "collapsed_sections": [],
      "authorship_tag": "ABX9TyNbxJdvF8dFWa06skTPjGtu",
      "include_colab_link": true
    },
    "kernelspec": {
      "name": "python3",
      "display_name": "Python 3"
    },
    "language_info": {
      "name": "python"
    }
  },
  "cells": [
    {
      "cell_type": "markdown",
      "metadata": {
        "id": "view-in-github",
        "colab_type": "text"
      },
      "source": [
        "<a href=\"https://colab.research.google.com/github/joelatwater/quick_experiments/blob/master/Two_Boys_on_a_Tuesday_Problem.ipynb\" target=\"_parent\"><img src=\"https://colab.research.google.com/assets/colab-badge.svg\" alt=\"Open In Colab\"/></a>"
      ]
    },
    {
      "cell_type": "markdown",
      "source": [
        "# Probability Problem - The Tuesday Paradox\n",
        "“I have two children. One is a boy born on a Tuesday. What is the probability I have two boys?”\n",
        "\n",
        "This code runs a monte carlo simulation to test the oucome.\n",
        "\n",
        "[More info](https://www.newscientist.com/article/dn18950-magic-numbers-a-meeting-of-mathemagical-tricksters/)"
      ],
      "metadata": {
        "id": "0cMuuz15VK_t"
      }
    },
    {
      "cell_type": "code",
      "source": [
        "from numpy import random\n",
        "\n",
        "BOY = 0\n",
        "GIRL = 1\n",
        "TUESDAY = 2\n",
        "NUM_TESTS = 500000\n",
        "\n",
        "# How many tests result in two boys\n",
        "two_boys = 0\n",
        "\n",
        "# How many tests have at least one boy\n",
        "at_least_one_boy = 0\n",
        "\n",
        "# How many tests have at least one boy born on tuesday\n",
        "at_least_one_boy_on_tuesday = 0\n",
        "\n",
        "# How many tests are both boys if one boy was born on a tuesday\n",
        "two_boys_given_tuesday = 0\n",
        "\n",
        "for i in range(NUM_TESTS):\n",
        "    child_1_sex = random.randint(low=0, high=2)\n",
        "    child_2_sex = random.randint(low=0, high=2)\n",
        "    child_1_birthday = random.randint(low=0, high=7)\n",
        "    child_2_birthday = random.randint(low=0, high=7)\n",
        "\n",
        "    # Both children are boys\n",
        "    if child_1_sex == BOY and child_2_sex == BOY:\n",
        "        two_boys += 1\n",
        "\n",
        "    # Both children are boys, given one is a boy\n",
        "    if child_1_sex == BOY or child_2_sex == BOY:\n",
        "        at_least_one_boy += 1\n",
        "\n",
        "    # Both child are boys, given one is a boy born on a tuesday.\n",
        "    if ((child_1_sex == BOY and child_1_birthday == TUESDAY) or\n",
        "            (child_2_sex == BOY and child_2_birthday == TUESDAY)):\n",
        "        at_least_one_boy_on_tuesday += 1\n",
        "        if child_1_sex == BOY and child_2_sex == BOY:\n",
        "            two_boys_given_tuesday += 1\n",
        "\n",
        "print('Total two boy families:', two_boys / NUM_TESTS)\n",
        "print('Prob two boy family given one boy:',\n",
        "      two_boys / at_least_one_boy)\n",
        "print('Prob two boy family given one boy on tuesday:',\n",
        "      two_boys_given_tuesday / at_least_one_boy_on_tuesday)\n",
        "print('13/27 =', 13 / 27)\n"
      ],
      "metadata": {
        "colab": {
          "base_uri": "https://localhost:8080/"
        },
        "id": "O-ZQOlVK4d0c",
        "outputId": "f2642357-9a69-4f81-a064-f5afdbd47c5c"
      },
      "execution_count": 1,
      "outputs": [
        {
          "output_type": "stream",
          "name": "stdout",
          "text": [
            "Total two boy families: 0.249086\n",
            "Prob two boy family given one boy: 0.33237790997136396\n",
            "Prob two boy family given one boy on tuesday: 0.48027242495970257\n",
            "13/27 = 0.48148148148148145\n"
          ]
        }
      ]
    },
    {
      "cell_type": "code",
      "source": [],
      "metadata": {
        "id": "0bEIBNTSc4EY"
      },
      "execution_count": null,
      "outputs": []
    }
  ]
}