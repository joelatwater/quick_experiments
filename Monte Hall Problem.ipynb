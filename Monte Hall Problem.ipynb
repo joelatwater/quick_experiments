{
 "cells": [
  {
   "cell_type": "code",
   "execution_count": 8,
   "metadata": {},
   "outputs": [
    {
     "name": "stdout",
     "output_type": "stream",
     "text": [
      "Populating the interactive namespace from numpy and matplotlib\n"
     ]
    }
   ],
   "source": [
    "import numpy as np\n",
    "import pandas as pd\n",
    "%pylab inline"
   ]
  },
  {
   "cell_type": "code",
   "execution_count": 115,
   "metadata": {},
   "outputs": [],
   "source": [
    "def create_prizes():\n",
    "  \"\"\"Creates array of 3 doors with one winner.\"\"\"\n",
    "  r = np.zeros(3)\n",
    "  r[np.random.randint(0,3)] = 1\n",
    "  return r\n",
    "\n",
    "def pick_door():\n",
    "  \"\"\"Picks index of random door.\"\"\"\n",
    "  return np.random.randint(0,3)\n",
    "\n",
    "def reveal_door(prizes, pick):\n",
    "  \"\"\"Reveals one non-winning door.\"\"\"\n",
    "  if prizes[pick] == 1:\n",
    "    reveal_door = np.random.randint(0,2)\n",
    "    if reveal_door == pick:\n",
    "      reveal_door += 1\n",
    "    return reveal_door\n",
    "  else:\n",
    "    for i,p in enumerate(prizes):\n",
    "      if i != pick and p != 1:\n",
    "        return i\n",
    "\n",
    "def new_pick(old_pick, reveal_door):\n",
    "  \"\"\"Switches pick from original to unrevealed.\"\"\"\n",
    "  for i in range(0,3):\n",
    "    if i != old_pick and i != reveal_door:\n",
    "      return i\n",
    "\n"
   ]
  },
  {
   "cell_type": "code",
   "execution_count": 116,
   "metadata": {
    "collapsed": true
   },
   "outputs": [],
   "source": [
    "# Testing\n",
    "assert reveal_door([0,1,0],1) in [0,2]\n",
    "num_iterations = 100000\n",
    "count = 0\n",
    "for i in range(0,num_iterations):\n",
    "  if reveal_door([0,1,0],1) == 0:\n",
    "    count+=1\n",
    "assert abs(count - num_iterations/2.) < num_iterations*0.01\n",
    "\n",
    "r = reveal_door([0,1,0],0)\n",
    "assert r == 2\n",
    "r = reveal_door([0,1,0],2)\n",
    "assert r == 0\n",
    "assert reveal_door([1,0,0],0) in [1,2]\n",
    "\n",
    "assert new_pick(0,2) == 1\n",
    "assert new_pick(1,2) == 0\n",
    "assert new_pick(2,0) == 1"
   ]
  },
  {
   "cell_type": "code",
   "execution_count": 114,
   "metadata": {},
   "outputs": [],
   "source": [
    "def play_round(change_door):\n",
    "  \"\"\"Plays one round and potentially changes pick.\n",
    "  \n",
    "  Args:\n",
    "    - change_door: Boolean if door should be switched after a non-winning door revealed.\n",
    "  Returns:\n",
    "    - Dictionary of round results:\n",
    "      - prizes: set of which door contains the prize\n",
    "      - first_pick: first choice of the player\n",
    "      - final_pick: final choice, switched or not\n",
    "      - won: boolean if the player one the game\n",
    "      \"\"\"\n",
    "  prizes = create_prizes()\n",
    "  first_pick = pick_door()\n",
    "  revealed_door = reveal_door(prizes, first_pick)\n",
    "  if change_door:\n",
    "    final_pick = new_pick(first_pick, revealed_door)\n",
    "  else:\n",
    "    final_pick = first_pick\n",
    "  won = (prizes[final_pick] == 1)\n",
    "  \n",
    "  return({'prizes':prizes,\n",
    "         'first_pick':first_pick,\n",
    "         'revealed_door':revealed_door,\n",
    "         'final_pick':final_pick,\n",
    "         'won':won})\n",
    "\n",
    "def calc_wins(num_rounds, change_door):\n",
    "  \"\"\"Plays rounds and returns number of wins.\"\"\"\n",
    "  wins = 0\n",
    "  for i in range(0,num_rounds):\n",
    "    this_round = play_round(change_door)\n",
    "    if this_round['won']:\n",
    "      wins += 1\n",
    "  return wins\n"
   ]
  },
  {
   "cell_type": "code",
   "execution_count": 112,
   "metadata": {},
   "outputs": [
    {
     "data": {
      "text/plain": [
       "66760"
      ]
     },
     "execution_count": 112,
     "metadata": {},
     "output_type": "execute_result"
    }
   ],
   "source": [
    "calc_wins(100000,True)"
   ]
  },
  {
   "cell_type": "code",
   "execution_count": 111,
   "metadata": {},
   "outputs": [
    {
     "data": {
      "text/plain": [
       "33279"
      ]
     },
     "execution_count": 111,
     "metadata": {},
     "output_type": "execute_result"
    }
   ],
   "source": [
    "calc_wins(100000,False)"
   ]
  },
  {
   "cell_type": "code",
   "execution_count": 92,
   "metadata": {},
   "outputs": [
    {
     "data": {
      "text/plain": [
       "2"
      ]
     },
     "execution_count": 92,
     "metadata": {},
     "output_type": "execute_result"
    }
   ],
   "source": []
  },
  {
   "cell_type": "code",
   "execution_count": 90,
   "metadata": {},
   "outputs": [
    {
     "data": {
      "text/plain": [
       "array([ 0.,  1.,  0.])"
      ]
     },
     "execution_count": 90,
     "metadata": {},
     "output_type": "execute_result"
    }
   ],
   "source": []
  },
  {
   "cell_type": "code",
   "execution_count": 73,
   "metadata": {},
   "outputs": [
    {
     "data": {
      "text/plain": [
       "[0, 2]"
      ]
     },
     "execution_count": 73,
     "metadata": {},
     "output_type": "execute_result"
    }
   ],
   "source": []
  },
  {
   "cell_type": "code",
   "execution_count": null,
   "metadata": {
    "collapsed": true
   },
   "outputs": [],
   "source": []
  }
 ],
 "metadata": {
  "kernelspec": {
   "display_name": "Python 2",
   "language": "python",
   "name": "python2"
  },
  "language_info": {
   "codemirror_mode": {
    "name": "ipython",
    "version": 2
   },
   "file_extension": ".py",
   "mimetype": "text/x-python",
   "name": "python",
   "nbconvert_exporter": "python",
   "pygments_lexer": "ipython2",
   "version": "2.7.14"
  }
 },
 "nbformat": 4,
 "nbformat_minor": 2
}
